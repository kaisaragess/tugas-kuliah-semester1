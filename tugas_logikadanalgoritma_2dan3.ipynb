{
  "nbformat": 4,
  "nbformat_minor": 0,
  "metadata": {
    "colab": {
      "provenance": []
    },
    "kernelspec": {
      "name": "python3",
      "display_name": "Python 3"
    },
    "language_info": {
      "name": "python"
    }
  },
  "cells": [
    {
      "cell_type": "markdown",
      "source": [
        "Pertemuan 2 Tanggal 2 Oktober 2024"
      ],
      "metadata": {
        "id": "WganQ_DMMkX3"
      }
    },
    {
      "cell_type": "markdown",
      "source": [
        "Diketahui P=10, Q=15, dan R=5\n",
        "Diberikan Algoritma P=Q, Q=R. Maka Nilai P, Q, R sekarang"
      ],
      "metadata": {
        "id": "d9RZa3kzEDG1"
      }
    },
    {
      "cell_type": "code",
      "source": [
        "P = 10\n",
        "Q = 15\n",
        "R = 5\n",
        "\n",
        "P=Q\n",
        "Q=R\n",
        "print(\"Nilai P = \", P)\n",
        "print(\"Nilai Q = \", Q)\n",
        "print(\"Nilai R = \", R)"
      ],
      "metadata": {
        "id": "ILBeVK9AiCd4",
        "colab": {
          "base_uri": "https://localhost:8080/"
        },
        "outputId": "56d1c1af-f594-48e0-9d8f-b2136ee822d9"
      },
      "execution_count": null,
      "outputs": [
        {
          "output_type": "stream",
          "name": "stdout",
          "text": [
            "15\n",
            "5\n",
            "5\n"
          ]
        }
      ]
    },
    {
      "cell_type": "markdown",
      "source": [
        "Diketahui Algoritma P=11, P=P+1, dan Q=P. Berapakan nilai P dan Q?"
      ],
      "metadata": {
        "id": "N-AMtSkoEqoG"
      }
    },
    {
      "cell_type": "code",
      "source": [
        "p = 11\n",
        "p = p + 1\n",
        "q = p\n",
        "print(\"Nilai P = \", p)\n",
        "print(\"Nilai Q = \", q)"
      ],
      "metadata": {
        "colab": {
          "base_uri": "https://localhost:8080/"
        },
        "id": "nbdsRBnNEqLp",
        "outputId": "e5b69c7a-998a-4788-ec17-8867392c1e2d"
      },
      "execution_count": null,
      "outputs": [
        {
          "output_type": "stream",
          "name": "stdout",
          "text": [
            "Nilai P =  12\n",
            "Nilai Q =  12\n"
          ]
        }
      ]
    },
    {
      "cell_type": "markdown",
      "source": [
        "Diketahui 3 variabel peubah P, Q, dan R. Agar isi Q ditaruh di P, isi R ditaruh di P dan isi P ditaruh di R. Maka algoritma yang dapat ditulis adalah"
      ],
      "metadata": {
        "id": "CzdQjV4UFUE2"
      }
    },
    {
      "cell_type": "code",
      "source": [
        "p = 1\n",
        "q = 2\n",
        "r = 3\n",
        "s = 0\n",
        "\n",
        "s = p\n",
        "p = q\n",
        "q = r\n",
        "r = s\n",
        "\n",
        "print(\"Nilai P = \", p)\n",
        "print(\"Nilai Q = \", q)\n",
        "print(\"Nilai R = \", r)\n",
        "print(\"Nilai S = \", s)\n",
        "\n"
      ],
      "metadata": {
        "colab": {
          "base_uri": "https://localhost:8080/"
        },
        "id": "ruM28ZP0FrBb",
        "outputId": "bc6ab60a-2a09-4fd4-8268-d4f613695881"
      },
      "execution_count": null,
      "outputs": [
        {
          "output_type": "stream",
          "name": "stdout",
          "text": [
            "Nilai P =  2\n",
            "Nilai Q =  3\n",
            "Nilai R =  1\n",
            "Nilai S =  1\n"
          ]
        }
      ]
    },
    {
      "cell_type": "markdown",
      "source": [
        "Diketahui 2 Peubah, K = 15 dan L = 25. Buat algoritma untuk mempertukarkan isi K dan L"
      ],
      "metadata": {
        "id": "-chJWh6lFy3X"
      }
    },
    {
      "cell_type": "code",
      "source": [
        "K = 15\n",
        "L = 25\n",
        "M = 0\n",
        "\n",
        "K, L = L, K\n",
        "print(\"Nilai K = \", K)\n",
        "print(\"Nilai L = \", L)"
      ],
      "metadata": {
        "colab": {
          "base_uri": "https://localhost:8080/"
        },
        "id": "C7wzmJAXF9vp",
        "outputId": "2c9e4967-f2dd-4063-b987-d71450218445"
      },
      "execution_count": null,
      "outputs": [
        {
          "output_type": "stream",
          "name": "stdout",
          "text": [
            "Nilai K =  25\n",
            "Nilai L =  15\n"
          ]
        }
      ]
    },
    {
      "cell_type": "markdown",
      "source": [
        "Ibu pergi ke pasar membeli telur sebanyak 5 kilogram\n",
        "untuk membuat kue, harga 1 kilo gram telor adalah 26000\n",
        "perkilogram. Untuk pergi ke pasar ibu harus naik angkot pp\n",
        "(pulang pergi) dengan tarip Rp 3500 sekali naik angkot. Pertanyaan: Berapakah sisa uang jika ibu membawa uang\n",
        "sebesar Rp 200.000,-  Identifikasi masalah\n",
        "Input: berat telur(brt), harga telur (hrg), transport(ongkos)\n",
        "uang ibu(uang)\n",
        "Output: sisa uang(sisa)\n",
        "Buatlah Programnya dengan Python!"
      ],
      "metadata": {
        "id": "6hsdJqovUjzE"
      }
    },
    {
      "cell_type": "code",
      "source": [
        "#banyak telur yang dibeli ibu 5 kg\n",
        "#harga telur 1 kg adalah Rp26000\n",
        "#harga ongkos pulang pergi Rp3500 x 2 = Rp7000\n",
        "#uang ibu sebesar Rp200000\n",
        "\n",
        "\n",
        "#input\n",
        "brt = int(input(\"Masukkan berat telur = \"))\n",
        "hrg = int(input(\"Masukkan harga telur per 1 kg = \"))\n",
        "ongkos = int(input(\"Masukkan transport pulang pergi = \"))\n",
        "uang = int(input(\"Masukkan uang ibu = \"))\n",
        "\n",
        "sisa = uang - ((brt*hrg)+ongkos)\n",
        "print(\"Maka sisa uang yang dimiliki oleh Ibu adalah Rp\", str(sisa) )"
      ],
      "metadata": {
        "id": "cERzPl2eVBnA"
      },
      "execution_count": null,
      "outputs": []
    },
    {
      "cell_type": "markdown",
      "source": [
        "Tugas Mandiri\n",
        "Seorang pedagang mangga menjual dagangannya\n",
        "yang setiap kg mangga dihargai dengan harga\n",
        "tertentu. Setiap pembeli membayar harga mangga\n",
        "yang dibeli nya berdasarkan berat.\n",
        "Buatlah algoritma untuk menentukan harga yang\n",
        "harus dibayar pembeli.\n",
        "• Identifikasi masalah\n",
        "• Input: harga per kg(hrg), berat pembelian(brt)\n",
        "• Output: harga yang dibayar pembeli(byr)"
      ],
      "metadata": {
        "id": "IldNmpW_YtGe"
      }
    },
    {
      "cell_type": "code",
      "source": [
        "#input\n",
        "hrg = int(input(\"Masukkan harga per kg = \"))\n",
        "brt = int(input(\"Masukkan berat mangga yang dibeli = \"))\n",
        "byr = hrg*brt\n",
        "print(\"Maka harga yang harus dibayar pembeli adalah Rp\", byr)"
      ],
      "metadata": {
        "id": "nFViSIYNYsHA"
      },
      "execution_count": null,
      "outputs": []
    },
    {
      "cell_type": "markdown",
      "source": [
        "Pertemuan 3 Tanggal 9 Oktober 2024"
      ],
      "metadata": {
        "id": "8FoMxvXKMURt"
      }
    },
    {
      "cell_type": "code",
      "source": [
        "#Program Operator Logika (AND)\n",
        "benar =True\n",
        "salah = False\n",
        "\n",
        "hasil_1 = benar and benar\n",
        "hasil_2 = benar and salah\n",
        "hasil_3 = salah and benar\n",
        "hasil_4 = salah and salah\n",
        "\n",
        "print(f\"Operasi {benar} AND {benar} = {hasil_1}\")\n",
        "print(f\"Operasi {benar} AND {salah} = {hasil_2}\")\n",
        "print(f\"Operasi {salah} AND {benar} = {hasil_3}\")\n",
        "print(f\"Operasi {salah} AND {salah} = {hasil_4}\")"
      ],
      "metadata": {
        "id": "HVVFGynrMTJ2"
      },
      "execution_count": null,
      "outputs": []
    },
    {
      "cell_type": "code",
      "source": [
        "#Program Operator Logika (OR)\n",
        "benar =True\n",
        "salah = False\n",
        "\n",
        "hasil_1 = benar or benar\n",
        "hasil_2 = benar or salah\n",
        "hasil_3 = salah or benar\n",
        "hasil_4 = salah or salah\n",
        "\n",
        "print(f\"Operasi {benar} OR {benar} = {hasil_1}\")\n",
        "print(f\"Operasi {benar} OR {salah} = {hasil_2}\")\n",
        "print(f\"Operasi {salah} OR {benar} = {hasil_3}\")\n",
        "print(f\"Operasi {salah} OR {salah} = {hasil_4}\")"
      ],
      "metadata": {
        "id": "WqVZ2azfMZWV"
      },
      "execution_count": null,
      "outputs": []
    },
    {
      "cell_type": "code",
      "source": [
        "# Menggunakan operasi logika NOT\n",
        "x = True\n",
        "y = False\n",
        "\n",
        "# Menggunakan operator NOT\n",
        "print(\"Nilai x:\", x)\n",
        "print(\"Nilai NOT x:\", not x)\n",
        "\n",
        "print(\"Nilai y:\", y)\n",
        "print(\"Nilai NOT y:\", not y)\n"
      ],
      "metadata": {
        "colab": {
          "base_uri": "https://localhost:8080/"
        },
        "id": "WNHzfXt4MaaM",
        "outputId": "e86d0bb4-cbf3-4e46-99fb-81e030e57091"
      },
      "execution_count": 4,
      "outputs": [
        {
          "output_type": "stream",
          "name": "stdout",
          "text": [
            "Nilai x: True\n",
            "Nilai NOT x: False\n",
            "Nilai y: False\n",
            "Nilai NOT y: True\n"
          ]
        }
      ]
    }
  ]
}