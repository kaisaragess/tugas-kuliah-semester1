{
 "cells": [
  {
   "cell_type": "markdown",
   "metadata": {},
   "source": [
    "Latihan 1"
   ]
  },
  {
   "cell_type": "markdown",
   "metadata": {},
   "source": [
    "Buat contoh operator penugasan"
   ]
  },
  {
   "cell_type": "code",
   "execution_count": 3,
   "metadata": {},
   "outputs": [
    {
     "name": "stdout",
     "output_type": "stream",
     "text": [
      "Nama anda sekarang adalah :  Kaisar van Dijk\n"
     ]
    }
   ],
   "source": [
    "nama_depan = input(\"Masukan Nama Depan Anda : \")\n",
    "nama_depan += \" van Dijk\"\n",
    "print (\"Nama anda sekarang adalah : \", nama_depan)"
   ]
  },
  {
   "cell_type": "markdown",
   "metadata": {},
   "source": [
    "Buat contoh operator logika"
   ]
  },
  {
   "cell_type": "code",
   "execution_count": 4,
   "metadata": {},
   "outputs": [
    {
     "name": "stdout",
     "output_type": "stream",
     "text": [
      "Hasil logika AND untuk 1 dan 2 adalah  2\n",
      "Hasil logika OR untuk 1 dan 2 adalah  1\n"
     ]
    }
   ],
   "source": [
    "a = int(input(\"Masukkan Angka 0 atau 1 : \"))\n",
    "b = int(input(\"Masukkan Angla 0 atau 1 : \"))\n",
    "\n",
    "print(f\"Hasil logika AND untuk {a} dan {b} adalah \", a and b) \n",
    "print(f\"Hasil logika OR untuk {a} dan {b} adalah \", a or b) "
   ]
  },
  {
   "cell_type": "markdown",
   "metadata": {},
   "source": [
    "Buat contoh operator bitwise"
   ]
  },
  {
   "cell_type": "code",
   "execution_count": 5,
   "metadata": {},
   "outputs": [
    {
     "name": "stdout",
     "output_type": "stream",
     "text": [
      "2\n",
      "110\n"
     ]
    }
   ],
   "source": [
    "print (6 & 3)\n",
    "print (100 | 10)"
   ]
  },
  {
   "cell_type": "markdown",
   "metadata": {},
   "source": [
    "Buat contoh operator identitas "
   ]
  },
  {
   "cell_type": "code",
   "execution_count": 7,
   "metadata": {},
   "outputs": [
    {
     "name": "stdout",
     "output_type": "stream",
     "text": [
      "True\n",
      "True\n"
     ]
    }
   ],
   "source": [
    "jurusan = [\"informatika\", \"sistem informasi\"]\n",
    "print(\"informatika\" in jurusan)\n",
    "print(\"teknik komputer\" not in jurusan)"
   ]
  },
  {
   "cell_type": "markdown",
   "metadata": {},
   "source": [
    "Buat contoh operator keanggotaan"
   ]
  },
  {
   "cell_type": "code",
   "execution_count": 6,
   "metadata": {},
   "outputs": [
    {
     "name": "stdout",
     "output_type": "stream",
     "text": [
      "True\n",
      "True\n"
     ]
    }
   ],
   "source": [
    "jurusan = [\"informatika\", \"sistem informasi\"]\n",
    "print(\"informatika\" in jurusan)\n",
    "print(\"teknik komputer\" not in jurusan)"
   ]
  },
  {
   "cell_type": "markdown",
   "metadata": {},
   "source": [
    "Latihan 2"
   ]
  },
  {
   "cell_type": "code",
   "execution_count": 8,
   "metadata": {},
   "outputs": [
    {
     "name": "stdout",
     "output_type": "stream",
     "text": [
      "                 TOKO MAINAN ANAK\n",
      "             ***************************\n",
      "======================================\n",
      "Nama Pembeli     =  Kaisar\n",
      "Kode Mainan      =  12A\n",
      "Harga            =  120000\n",
      "Jumlah Beli      =  10\n",
      "Total            =  1200000\n"
     ]
    }
   ],
   "source": [
    "print(\"                 TOKO MAINAN ANAK\")\n",
    "print(\"             ***************************\")\n",
    "\n",
    "nama = input(\"Masukkan Nama Pembeli : \")\n",
    "kode_mainan = input(\"Masukkan Kode Mainan : \")\n",
    "harga = int(input(\"Masukkan Harga : \"))\n",
    "kuantitas = int(input(\"Masukkan Jumlah Beli : \"))\n",
    "\n",
    "print(\"======================================\")\n",
    "print(\"Nama Pembeli     = \", nama)\n",
    "print(\"Kode Mainan      = \", kode_mainan)\n",
    "print(\"Harga            = \", harga)\n",
    "print(\"Jumlah Beli      = \", kuantitas)\n",
    "print(\"Total            = \", harga * kuantitas)\n",
    "\n"
   ]
  }
 ],
 "metadata": {
  "kernelspec": {
   "display_name": "Python 3",
   "language": "python",
   "name": "python3"
  },
  "language_info": {
   "codemirror_mode": {
    "name": "ipython",
    "version": 3
   },
   "file_extension": ".py",
   "mimetype": "text/x-python",
   "name": "python",
   "nbconvert_exporter": "python",
   "pygments_lexer": "ipython3",
   "version": "3.12.0"
  }
 },
 "nbformat": 4,
 "nbformat_minor": 2
}
